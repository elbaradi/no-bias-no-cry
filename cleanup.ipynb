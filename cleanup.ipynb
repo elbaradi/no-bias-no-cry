{
 "cells": [
  {
   "cell_type": "code",
   "execution_count": 31,
   "id": "reasonable-walter",
   "metadata": {},
   "outputs": [],
   "source": [
    "import pandas as pd\n",
    "import numpy as np\n",
    "import plotly.express as px\n",
    "from sklearn.preprocessing import LabelBinarizer"
   ]
  },
  {
   "cell_type": "code",
   "execution_count": 166,
   "id": "likely-cover",
   "metadata": {},
   "outputs": [],
   "source": [
    "import statsmodels.formula.api as smf"
   ]
  },
  {
   "cell_type": "code",
   "execution_count": 194,
   "id": "banned-signature",
   "metadata": {},
   "outputs": [
    {
     "name": "stderr",
     "output_type": "stream",
     "text": [
      "/home/jvanderwolf/projects/school/codam/events/no-bias-no-cry/.venv/lib/python3.6/site-packages/IPython/core/interactiveshell.py:3072: DtypeWarning:\n",
      "\n",
      "Columns (11,12,13,25,27,28,29,30,31,32,33,34,35,36,37,38,39,40,41,42,43,44,45,46,47,48,49,50,51,52,53,54,55,56,57,58,59,60,61) have mixed types.Specify dtype option on import or set low_memory=False.\n",
      "\n"
     ]
    }
   ],
   "source": [
    "ORIGINAL = pd.read_csv('data/survey_results_public_mega_inc.csv')"
   ]
  },
  {
   "cell_type": "code",
   "execution_count": 224,
   "id": "cooperative-arabic",
   "metadata": {},
   "outputs": [],
   "source": [
    "df = ORIGINAL.copy()"
   ]
  },
  {
   "cell_type": "code",
   "execution_count": 225,
   "id": "average-questionnaire",
   "metadata": {},
   "outputs": [],
   "source": [
    "VARS_REQUIRED = [\n",
    "    'ConvertedSalary',\n",
    "    'JobSatisfaction',\n",
    "    'CareerSatisfaction',\n",
    "    'SexualOrientation',\n",
    "    'DevType',\n",
    "    'EducationTypes',\n",
    "    'YearsCoding',\n",
    "    'YearsCodingProf',\n",
    "    'Gender'\n",
    "]"
   ]
  },
  {
   "cell_type": "code",
   "execution_count": 226,
   "id": "annoying-acrobat",
   "metadata": {},
   "outputs": [],
   "source": [
    "df_filter_country = df[(df['Country'] == 'Netherlands') | (df['Country'] == 'Germany')]\n",
    "df_filter_employ = df_filter_country[(df_filter_country['Employment'] == 'Employed full-time')]\n",
    "df_filter_salary = df_filter_employ[VARS_REQUIRED]"
   ]
  },
  {
   "cell_type": "code",
   "execution_count": 227,
   "id": "monthly-chamber",
   "metadata": {},
   "outputs": [
    {
     "data": {
      "text/plain": [
       "5561"
      ]
     },
     "execution_count": 227,
     "metadata": {},
     "output_type": "execute_result"
    }
   ],
   "source": [
    "len(df_filter_salary)"
   ]
  },
  {
   "cell_type": "code",
   "execution_count": 228,
   "id": "welsh-penetration",
   "metadata": {},
   "outputs": [],
   "source": [
    "# TEMPORARY\n",
    "df_filter_salary = df_filter_salary[(df_filter_salary['Gender'].notnull()) & (df_filter_salary['SexualOrientation'].notnull())]"
   ]
  },
  {
   "cell_type": "code",
   "execution_count": 229,
   "id": "statewide-planner",
   "metadata": {},
   "outputs": [],
   "source": [
    "# clean up np.NaN values\n",
    "df_filter_salary['GenderBinary'] = np.where((df_filter_salary['Gender'] == 'Male') | (df_filter_salary['Gender'] == 'Female') | (df_filter_salary['Gender'] == 'Female;Male'), 'GenderConforming', 'GenderNonconforming')\n",
    "df_filter_salary['Male'] = np.where((df_filter_salary['Gender'] == 'Male'), 1, 0)\n",
    "df_filter_salary['OrientationBinary'] = np.where((df_filter_salary['SexualOrientation'] == 'Straight or heterosexual'), 'OrientConforming', 'OrientNonConforming')"
   ]
  },
  {
   "cell_type": "code",
   "execution_count": 230,
   "id": "upper-correction",
   "metadata": {},
   "outputs": [],
   "source": [
    "filtered = df_filter_salary.copy()"
   ]
  },
  {
   "cell_type": "code",
   "execution_count": 231,
   "id": "correct-speaking",
   "metadata": {},
   "outputs": [],
   "source": [
    "filtered = pd.concat([filtered, pd.get_dummies(filtered['GenderBinary'])], axis=1)\n",
    "filtered = pd.concat([filtered, pd.get_dummies(filtered['OrientationBinary'])], axis=1)\n",
    "filtered = pd.concat([filtered, pd.get_dummies(filtered['Gender'])], axis=1)\n",
    "filtered = pd.concat([filtered, pd.get_dummies(filtered['SexualOrientation'])], axis=1)"
   ]
  },
  {
   "cell_type": "code",
   "execution_count": 234,
   "id": "after-insulation",
   "metadata": {},
   "outputs": [],
   "source": [
    "final_df = filtered[['ConvertedSalary', 'OrientationBinary', 'Male', 'YearsCodingProf', 'GenderBinary']]\n",
    "results = smf.ols('ConvertedSalary ~ OrientationBinary + Male + YearsCodingProf + GenderBinary', data=final_df).fit()"
   ]
  },
  {
   "cell_type": "code",
   "execution_count": null,
   "id": "flying-saskatchewan",
   "metadata": {},
   "outputs": [],
   "source": []
  }
 ],
 "metadata": {
  "kernelspec": {
   "display_name": "hackthebias-venv",
   "language": "python",
   "name": "hackthebias-venv"
  },
  "language_info": {
   "codemirror_mode": {
    "name": "ipython",
    "version": 3
   },
   "file_extension": ".py",
   "mimetype": "text/x-python",
   "name": "python",
   "nbconvert_exporter": "python",
   "pygments_lexer": "ipython3",
   "version": "3.6.9"
  }
 },
 "nbformat": 4,
 "nbformat_minor": 5
}
